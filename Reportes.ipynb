{
 "cells": [
  {
   "cell_type": "markdown",
   "id": "44082556",
   "metadata": {},
   "source": [
    "## Reports with Python "
   ]
  },
  {
   "cell_type": "markdown",
   "id": "8d66a723",
   "metadata": {},
   "source": [
    "# Export from Yahoo Finance and plot data"
   ]
  },
  {
   "cell_type": "code",
   "execution_count": 6,
   "id": "24968dbc",
   "metadata": {},
   "outputs": [],
   "source": [
    "import yfinance as yf\n",
    "import pandas as pd\n",
    "\n",
    "# Load historical data in the past 10 years\n",
    "sp500 = yf.Ticker(\"^GSPC\")\n",
    "end_date = pd.Timestamp.today()\n",
    "start_date = end_date - pd.Timedelta(days=10*365)\n",
    "sp500_history=sp500.history(start=start_date, end=end_date)\n",
    "\n",
    "# Remove unnecessary columns\n",
    "sp500_history = sp500_history.drop(columns=['Dividends', 'Stock Splits'])\n",
    "\n",
    "# Create a new column as Close 200 days moving average\n",
    "sp500_history['Close_200ma'] = sp500_history['Close'].rolling(200).mean()\n",
    "\n",
    "# Create a summary statistics table\n",
    "sp500_history_summary = sp500_history.describe()"
   ]
  },
  {
   "cell_type": "code",
   "execution_count": 7,
   "id": "e2291057",
   "metadata": {},
   "outputs": [
    {
     "data": {
      "image/png": "[encoded data removed]",
      "text/plain": [
       "<Figure size 534.75x216 with 1 Axes>"
      ]
     },
     "metadata": {
      "needs_background": "light"
     },
     "output_type": "display_data"
    }
   ],
   "source": [
    "import matplotlib.pyplot as plt\n",
    "import seaborn as sns\n",
    "sns.relplot(data=sp500_history[['Close', 'Close_200ma']], kind='line', height=3, aspect=2.0)\n",
    "plt.savefig('chart.png')"
   ]
  },
  {
   "cell_type": "markdown",
   "id": "429b2456",
   "metadata": {},
   "source": [
    "# Transform into Excel"
   ]
  },
  {
   "cell_type": "code",
   "execution_count": 8,
   "id": "f358ea96",
   "metadata": {},
   "outputs": [],
   "source": [
    "# Import libraries\n",
    "from openpyxl.chart import LineChart, Reference\n",
    "\n",
    "# 1. Set up an ExcelWriter\n",
    "with pd.ExcelWriter('excel_report.xlsx', engine='openpyxl') as writer:\n",
    "# 2. Export data\n",
    "    sp500_history.to_excel(writer, sheet_name='historical_data')\n",
    "    sp500_history_summary.to_excel(writer, sheet_name='historical_data_summary')\n",
    "    \n",
    "# 3. Add a line chart\n",
    "    # Point to the sheet 'historical_data', where the chart will be added\n",
    "    wb = writer.book \n",
    "    ws = wb['historical_data'] \n",
    "    # Grab the maximum row number in the sheet\n",
    "    max_row = ws.max_row\n",
    "    # Refer to the data of close and close_200ma by the range of rows and cols on the sheet\n",
    "    values_close = Reference(ws, min_col=5, min_row=1, max_col=5, max_row=max_row)\n",
    "    values_close_ma = Reference(ws, min_col=7, min_row=1, max_col=7, max_row=max_row)\n",
    "    # Refer to the date\n",
    "    dates = Reference(ws, min_col=1, min_row=2, max_col=1, max_row=max_row)\n",
    "    # Create a LineChart\n",
    "    chart = LineChart()\n",
    "    # Add data of close and close_ma to the chart\n",
    "    chart.add_data(values_close, titles_from_data=True)\n",
    "    chart.add_data(values_close_ma, titles_from_data=True)\n",
    "    # Set the dates as the x axis and format it\n",
    "    chart.set_categories(dates)\n",
    "    chart.x_axis.number_format = 'mmm-yy'\n",
    "    chart.x_axis.majorTimeUnit = 'days'\n",
    "    chart.x_axis.title = 'Date'\n",
    "    # Add title to the chart\n",
    "    chart.title = 'Close prices of S&P 500'\n",
    "    # Refer to close_ma data, which is with index 1 within the chart, and style it\n",
    "    s1 = chart.series[1]\n",
    "    s1.graphicalProperties.line.dashStyle = 'sysDot'\n",
    "    # Add the chart to the cell of G12 on the sheet ws\n",
    "    ws.add_chart(chart, 'G12')"
   ]
  },
  {
   "cell_type": "code",
   "execution_count": null,
   "id": "de0c1ebd",
   "metadata": {},
   "outputs": [],
   "source": []
  }
 ],
 "metadata": {
  "kernelspec": {
   "display_name": "Python 3 (ipykernel)",
   "language": "python",
   "name": "python3"
  },
  "language_info": {
   "codemirror_mode": {
    "name": "ipython",
    "version": 3
   },
   "file_extension": ".py",
   "mimetype": "text/x-python",
   "name": "python",
   "nbconvert_exporter": "python",
   "pygments_lexer": "ipython3",
   "version": "3.8.12"
  },
  "toc": {
   "base_numbering": 1,
   "nav_menu": {},
   "number_sections": true,
   "sideBar": true,
   "skip_h1_title": false,
   "title_cell": "Table of Contents",
   "title_sidebar": "Contents",
   "toc_cell": false,
   "toc_position": {},
   "toc_section_display": true,
   "toc_window_display": false
  }
 },
 "nbformat": 4,
 "nbformat_minor": 5
}
